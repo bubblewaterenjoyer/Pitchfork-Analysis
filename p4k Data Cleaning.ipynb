{
 "cells": [
  {
   "cell_type": "code",
   "execution_count": 1,
   "id": "c4c93ca3",
   "metadata": {},
   "outputs": [],
   "source": [
    "import pandas as pd\n",
    "import numpy as np"
   ]
  },
  {
   "cell_type": "code",
   "execution_count": 2,
   "id": "1c96b23a",
   "metadata": {},
   "outputs": [],
   "source": [
    "read_from_path = 'D:\\\\CS\\\\Projects\\\\p4k\\\\reviewListUnClean'\n",
    "df = pd.read_csv(read_from_path)"
   ]
  },
  {
   "cell_type": "code",
   "execution_count": 3,
   "id": "fbcfe2ca",
   "metadata": {},
   "outputs": [
    {
     "data": {
      "text/html": [
       "<div>\n",
       "<style scoped>\n",
       "    .dataframe tbody tr th:only-of-type {\n",
       "        vertical-align: middle;\n",
       "    }\n",
       "\n",
       "    .dataframe tbody tr th {\n",
       "        vertical-align: top;\n",
       "    }\n",
       "\n",
       "    .dataframe thead th {\n",
       "        text-align: right;\n",
       "    }\n",
       "</style>\n",
       "<table border=\"1\" class=\"dataframe\">\n",
       "  <thead>\n",
       "    <tr style=\"text-align: right;\">\n",
       "      <th></th>\n",
       "      <th>title</th>\n",
       "      <th>artist</th>\n",
       "      <th>year</th>\n",
       "      <th>score</th>\n",
       "      <th>best new music</th>\n",
       "      <th>best new reissue</th>\n",
       "      <th>genre</th>\n",
       "      <th>label</th>\n",
       "      <th>author</th>\n",
       "      <th>abstract</th>\n",
       "      <th>review</th>\n",
       "      <th>word count</th>\n",
       "      <th>char count</th>\n",
       "      <th>publication date</th>\n",
       "      <th>url</th>\n",
       "    </tr>\n",
       "  </thead>\n",
       "  <tbody>\n",
       "    <tr>\n",
       "      <th>0</th>\n",
       "      <td>Cracker Island</td>\n",
       "      <td>Gorillaz</td>\n",
       "      <td>2023</td>\n",
       "      <td>6.5</td>\n",
       "      <td>0</td>\n",
       "      <td>0</td>\n",
       "      <td>Electronic / Rock</td>\n",
       "      <td>NaN</td>\n",
       "      <td>Ben Cardew</td>\n",
       "      <td>Stevie Nicks, Thundercat, Tame Impala, and Bad...</td>\n",
       "      <td>As a band supposedly made up of cartoon charac...</td>\n",
       "      <td>741</td>\n",
       "      <td>4752</td>\n",
       "      <td>2023-02-23T05:02:00</td>\n",
       "      <td>https://pitchfork.com//reviews/albums/gorillaz...</td>\n",
       "    </tr>\n",
       "    <tr>\n",
       "      <th>1</th>\n",
       "      <td>Mourning Due</td>\n",
       "      <td>Nappy Nina</td>\n",
       "      <td>2023</td>\n",
       "      <td>6.2</td>\n",
       "      <td>0</td>\n",
       "      <td>0</td>\n",
       "      <td>Rap</td>\n",
       "      <td>LucidHaus</td>\n",
       "      <td>Stephen Kearse</td>\n",
       "      <td>The hushed flows from the Brooklyn-based rappe...</td>\n",
       "      <td>If Nappy Nina were a comic book character, her...</td>\n",
       "      <td>631</td>\n",
       "      <td>3966</td>\n",
       "      <td>2023-02-23T05:01:00</td>\n",
       "      <td>https://pitchfork.com//reviews/albums/nappy-ni...</td>\n",
       "    </tr>\n",
       "    <tr>\n",
       "      <th>2</th>\n",
       "      <td>Desire Pathway</td>\n",
       "      <td>Screaming Females</td>\n",
       "      <td>2023</td>\n",
       "      <td>6.8</td>\n",
       "      <td>0</td>\n",
       "      <td>0</td>\n",
       "      <td>Rock</td>\n",
       "      <td>Don Giovanni</td>\n",
       "      <td>Ian Cohen</td>\n",
       "      <td>The New Jersey band turns in another solid alb...</td>\n",
       "      <td>Screaming Females don't immediately seem like ...</td>\n",
       "      <td>716</td>\n",
       "      <td>4492</td>\n",
       "      <td>2023-02-23T05:00:00</td>\n",
       "      <td>https://pitchfork.com//reviews/albums/screamin...</td>\n",
       "    </tr>\n",
       "    <tr>\n",
       "      <th>3</th>\n",
       "      <td>Quest for Fire</td>\n",
       "      <td>Skrillex</td>\n",
       "      <td>2023</td>\n",
       "      <td>7.7</td>\n",
       "      <td>0</td>\n",
       "      <td>0</td>\n",
       "      <td>Electronic</td>\n",
       "      <td>Owsla</td>\n",
       "      <td>Chal Ravens</td>\n",
       "      <td>The dubstep disruptor returns with two albums—...</td>\n",
       "      <td>Skrillex is what tech folks would call a disru...</td>\n",
       "      <td>1540</td>\n",
       "      <td>9404</td>\n",
       "      <td>2023-02-22T05:03:00</td>\n",
       "      <td>https://pitchfork.com//reviews/albums/skrillex...</td>\n",
       "    </tr>\n",
       "    <tr>\n",
       "      <th>4</th>\n",
       "      <td>Don’t Get Too Close</td>\n",
       "      <td>Skrillex</td>\n",
       "      <td>2023</td>\n",
       "      <td>7.3</td>\n",
       "      <td>0</td>\n",
       "      <td>0</td>\n",
       "      <td>Electronic</td>\n",
       "      <td>Owsla</td>\n",
       "      <td>Chal Ravens</td>\n",
       "      <td>The dubstep disruptor returns with two albums—...</td>\n",
       "      <td>Skrillex is what tech folks would call a disru...</td>\n",
       "      <td>1540</td>\n",
       "      <td>9404</td>\n",
       "      <td>2023-02-22T05:03:00</td>\n",
       "      <td>https://pitchfork.com//reviews/albums/skrillex...</td>\n",
       "    </tr>\n",
       "  </tbody>\n",
       "</table>\n",
       "</div>"
      ],
      "text/plain": [
       "                 title             artist  year  score  best new music  \\\n",
       "0       Cracker Island           Gorillaz  2023    6.5               0   \n",
       "1         Mourning Due         Nappy Nina  2023    6.2               0   \n",
       "2       Desire Pathway  Screaming Females  2023    6.8               0   \n",
       "3       Quest for Fire           Skrillex  2023    7.7               0   \n",
       "4  Don’t Get Too Close           Skrillex  2023    7.3               0   \n",
       "\n",
       "   best new reissue              genre         label          author  \\\n",
       "0                 0  Electronic / Rock           NaN      Ben Cardew   \n",
       "1                 0                Rap     LucidHaus  Stephen Kearse   \n",
       "2                 0               Rock  Don Giovanni       Ian Cohen   \n",
       "3                 0         Electronic         Owsla     Chal Ravens   \n",
       "4                 0         Electronic         Owsla     Chal Ravens   \n",
       "\n",
       "                                            abstract  \\\n",
       "0  Stevie Nicks, Thundercat, Tame Impala, and Bad...   \n",
       "1  The hushed flows from the Brooklyn-based rappe...   \n",
       "2  The New Jersey band turns in another solid alb...   \n",
       "3  The dubstep disruptor returns with two albums—...   \n",
       "4  The dubstep disruptor returns with two albums—...   \n",
       "\n",
       "                                              review  word count  char count  \\\n",
       "0  As a band supposedly made up of cartoon charac...         741        4752   \n",
       "1  If Nappy Nina were a comic book character, her...         631        3966   \n",
       "2  Screaming Females don't immediately seem like ...         716        4492   \n",
       "3  Skrillex is what tech folks would call a disru...        1540        9404   \n",
       "4  Skrillex is what tech folks would call a disru...        1540        9404   \n",
       "\n",
       "      publication date                                                url  \n",
       "0  2023-02-23T05:02:00  https://pitchfork.com//reviews/albums/gorillaz...  \n",
       "1  2023-02-23T05:01:00  https://pitchfork.com//reviews/albums/nappy-ni...  \n",
       "2  2023-02-23T05:00:00  https://pitchfork.com//reviews/albums/screamin...  \n",
       "3  2023-02-22T05:03:00  https://pitchfork.com//reviews/albums/skrillex...  \n",
       "4  2023-02-22T05:03:00  https://pitchfork.com//reviews/albums/skrillex...  "
      ]
     },
     "execution_count": 3,
     "metadata": {},
     "output_type": "execute_result"
    }
   ],
   "source": [
    "df.head()"
   ]
  },
  {
   "cell_type": "code",
   "execution_count": 4,
   "id": "742fb28f",
   "metadata": {},
   "outputs": [
    {
     "data": {
      "text/plain": [
       "(26436, 15)"
      ]
     },
     "execution_count": 4,
     "metadata": {},
     "output_type": "execute_result"
    }
   ],
   "source": [
    "df.shape"
   ]
  },
  {
   "cell_type": "code",
   "execution_count": 5,
   "id": "5b880833",
   "metadata": {},
   "outputs": [],
   "source": [
    "###########################################################################################################################"
   ]
  },
  {
   "cell_type": "code",
   "execution_count": 6,
   "id": "c019a16c",
   "metadata": {},
   "outputs": [],
   "source": [
    "# DTypes"
   ]
  },
  {
   "cell_type": "code",
   "execution_count": 7,
   "id": "a006a999",
   "metadata": {},
   "outputs": [],
   "source": [
    "###########################################################################################################################"
   ]
  },
  {
   "cell_type": "code",
   "execution_count": 8,
   "id": "3b8e1df0",
   "metadata": {},
   "outputs": [
    {
     "data": {
      "text/plain": [
       "title                object\n",
       "artist               object\n",
       "year                 object\n",
       "score               float64\n",
       "best new music        int64\n",
       "best new reissue      int64\n",
       "genre                object\n",
       "label                object\n",
       "author               object\n",
       "abstract             object\n",
       "review               object\n",
       "word count            int64\n",
       "char count            int64\n",
       "publication date     object\n",
       "url                  object\n",
       "dtype: object"
      ]
     },
     "execution_count": 8,
     "metadata": {},
     "output_type": "execute_result"
    }
   ],
   "source": [
    "df.dtypes"
   ]
  },
  {
   "cell_type": "code",
   "execution_count": 9,
   "id": "dfb1d9d9",
   "metadata": {},
   "outputs": [],
   "source": [
    "df['year reissue'] = None\n",
    "df['best new music'] = df['best new music'].astype(bool)\n",
    "df['best new reissue'] = df['best new reissue'].astype(bool)\n",
    "\n",
    "\n",
    "df.rename(columns={'best new music':'isBNM'}, inplace = True)\n",
    "df.rename(columns={'best new reissue':'isBNR'}, inplace = True)\n",
    "df.rename(columns={'publication date':'publication datetime'}, inplace = True)"
   ]
  },
  {
   "cell_type": "code",
   "execution_count": 13,
   "id": "90781eca",
   "metadata": {},
   "outputs": [],
   "source": [
    "###########################################################################################################################"
   ]
  },
  {
   "cell_type": "code",
   "execution_count": 14,
   "id": "8af53beb",
   "metadata": {},
   "outputs": [],
   "source": [
    "# Isna"
   ]
  },
  {
   "cell_type": "code",
   "execution_count": 15,
   "id": "52663206",
   "metadata": {},
   "outputs": [],
   "source": [
    "###########################################################################################################################"
   ]
  },
  {
   "cell_type": "code",
   "execution_count": 17,
   "id": "27e319f0",
   "metadata": {},
   "outputs": [
    {
     "data": {
      "text/plain": [
       "title                       1\n",
       "artist                      1\n",
       "year                      414\n",
       "score                       0\n",
       "isBNM                       0\n",
       "isBNR                       0\n",
       "genre                    2409\n",
       "label                    3512\n",
       "author                      0\n",
       "abstract                  575\n",
       "review                      2\n",
       "word count                  0\n",
       "char count                  0\n",
       "publication datetime        0\n",
       "url                         0\n",
       "year reissue            26436\n",
       "dtype: int64"
      ]
     },
     "execution_count": 17,
     "metadata": {},
     "output_type": "execute_result"
    }
   ],
   "source": [
    "# Title - Issue with how for loop in scrapper works \n",
    "# Artist - Scrapper was too specific, should work next time\n",
    "# Year - Some pages dont have year, will assume if year is NA then the year of publication is the year of release\n",
    "# Genre - Some pages just dont have genre, will just have to ignore these for analysis\n",
    "# Label - Same as Genre\n",
    "# Abstract - Some abstracts had different html characteristics, should be fixed for next scrape\n",
    "# Review - Joke reviews\n",
    "df.isna().sum()"
   ]
  },
  {
   "cell_type": "code",
   "execution_count": 18,
   "id": "cae0f9dc",
   "metadata": {},
   "outputs": [],
   "source": [
    "tempDF = df[df['url'].duplicated()]\n",
    "df = df.drop(tempDF[tempDF['title'].isna()].index)"
   ]
  },
  {
   "cell_type": "code",
   "execution_count": 19,
   "id": "c71fd933",
   "metadata": {},
   "outputs": [],
   "source": [
    "columns = df.drop(['year', 'year reissue'], axis=1).columns\n",
    "\n",
    "for column in columns:\n",
    "    df[column] = df[column].fillna(\"\")"
   ]
  },
  {
   "cell_type": "code",
   "execution_count": 20,
   "id": "d1b0a754",
   "metadata": {},
   "outputs": [],
   "source": [
    "###########################################################################################################################"
   ]
  },
  {
   "cell_type": "code",
   "execution_count": 21,
   "id": "080a33b1",
   "metadata": {},
   "outputs": [],
   "source": [
    "# New Columns"
   ]
  },
  {
   "cell_type": "code",
   "execution_count": 22,
   "id": "96f5807a",
   "metadata": {},
   "outputs": [],
   "source": [
    "###########################################################################################################################"
   ]
  },
  {
   "cell_type": "code",
   "execution_count": 23,
   "id": "820b25aa",
   "metadata": {},
   "outputs": [],
   "source": [
    "# Splitting the Date into a published date column and published time\n",
    "df[['publication date', 'publication time']] = df['publication datetime'].str.split('T', expand=True)"
   ]
  },
  {
   "cell_type": "code",
   "execution_count": 24,
   "id": "5ba34ee6",
   "metadata": {},
   "outputs": [],
   "source": [
    "df['publication year'] = df['publication datetime'].str.split('-', expand=True)[0]"
   ]
  },
  {
   "cell_type": "code",
   "execution_count": 25,
   "id": "33a6af58",
   "metadata": {},
   "outputs": [
    {
     "name": "stderr",
     "output_type": "stream",
     "text": [
      "C:\\Users\\dttan\\AppData\\Local\\Temp\\ipykernel_21352\\2015507722.py:1: FutureWarning: In a future version of pandas all arguments of StringMethods.split except for the argument 'pat' will be keyword-only.\n",
      "  s = df[df['year'].isna()]['publication datetime'].str.split('-', 1).str[0].astype(int)\n"
     ]
    }
   ],
   "source": [
    "s = df[df['year'].isna()]['publication datetime'].str.split('-', 1).str[0].astype(int)\n",
    "df.loc[s.index, 'year'] = s"
   ]
  },
  {
   "cell_type": "code",
   "execution_count": 26,
   "id": "ae601bfc",
   "metadata": {},
   "outputs": [
    {
     "name": "stderr",
     "output_type": "stream",
     "text": [
      "C:\\Users\\dttan\\AppData\\Local\\Temp\\ipykernel_21352\\2449848172.py:5: FutureWarning: In a future version of pandas all arguments of StringMethods.split except for the argument 'pat' will be keyword-only.\n",
      "  s = (df[df['year'].str.contains('/', na=False)]['publication datetime'].str.split('-', 1).str[0].astype(int) > df[df['year'].str.contains('/', na=False)]['year'].str.split('/').str[0].astype(int))\n"
     ]
    }
   ],
   "source": [
    "# Creating a isReissue column\n",
    "df['isReissue'] = False\n",
    "\n",
    "s = (df[df['year'].str.contains('/', na=False)]['publication datetime'].str.split('-', 1).str[0].astype(int) > df[df['year'].str.contains('/', na=False)]['year'].str.split('/').str[0].astype(int))\n",
    "df.loc[s.index[s],'isReissue'] = True"
   ]
  },
  {
   "cell_type": "code",
   "execution_count": 27,
   "id": "6cebcc90",
   "metadata": {},
   "outputs": [],
   "source": [
    "df['isLookback'] = False\n",
    "df.loc[df[df['year'] != df['publication year']].index, 'isLookback'] = True"
   ]
  },
  {
   "cell_type": "code",
   "execution_count": 28,
   "id": "88234a0f",
   "metadata": {},
   "outputs": [],
   "source": [
    "s = df[df['year'].str.contains('/', na=False)]['year'].str.split('/').str[0].astype(int)\n",
    "s1 = df[df['year'].str.contains('/', na=False)]['year'].str.split('/').str[1].astype(int)\n",
    "\n",
    "df.loc[s.index, 'year'] = s\n",
    "df.loc[s1.index, 'year reissue'] = s1"
   ]
  },
  {
   "cell_type": "code",
   "execution_count": 29,
   "id": "dfd92f7c",
   "metadata": {},
   "outputs": [],
   "source": [
    "# Creating a isEP column\n",
    "df['isEP'] = False\n",
    "\n",
    "s = df['title'].str.contains('\\WEP')\n",
    "df.loc[s.index[s],'isEP'] = True"
   ]
  },
  {
   "cell_type": "code",
   "execution_count": 30,
   "id": "93836546",
   "metadata": {},
   "outputs": [],
   "source": [
    "#s = df[df['genre'].str.contains(' / ', na=False)]['genre'].str.split(' / ')\n",
    "s = df['genre'].str.split(' / ')\n",
    "df.loc[s.index,'genre'] = s"
   ]
  },
  {
   "cell_type": "code",
   "execution_count": 31,
   "id": "b52a1f61",
   "metadata": {},
   "outputs": [
    {
     "data": {
      "text/plain": [
       "False    25722\n",
       "True       714\n",
       "Name: title, dtype: int64"
      ]
     },
     "execution_count": 31,
     "metadata": {},
     "output_type": "execute_result"
    }
   ],
   "source": [
    "# Looking for potential words to indicate not a new release in the title of the album\n",
    "\n",
    "s=df['title'].str.contains(' Legacy| Deluxe| Edition| Compliation| reissued| Reissued| Remixes| Remix| B-sides| Singles|xCD| Box| \\d*-\\d*| Greatest Riffs')\n",
    "df.loc[s.index[s], 'isReissue'] = True\n",
    "df.loc[s.index[s], 'isBNM'] = False"
   ]
  },
  {
   "cell_type": "code",
   "execution_count": 32,
   "id": "094d7956",
   "metadata": {},
   "outputs": [
    {
     "name": "stderr",
     "output_type": "stream",
     "text": [
      "C:\\Users\\dttan\\AppData\\Local\\Temp\\ipykernel_21352\\2868151497.py:1: UserWarning: This pattern is interpreted as a regular expression, and has match groups. To actually get the groups, use str.extract.\n",
      "  s = df['abstract'].str.contains(r'([Rr]eissue)|([Rr]eissued)|([Rr]eissuing)|([Bb]oxset)|([Bb]ox set)|([Rr]emastered)|xCD|singles collections|([Bb]est-of)')\n"
     ]
    },
    {
     "data": {
      "text/plain": [
       "False    24791\n",
       "True      1645\n",
       "Name: abstract, dtype: int64"
      ]
     },
     "execution_count": 32,
     "metadata": {},
     "output_type": "execute_result"
    }
   ],
   "source": [
    "# Looking for potential words to indicate not a new release in the abstract of the review\n",
    "\n",
    "s = df['abstract'].str.contains(r'([Rr]eissue)|([Rr]eissued)|([Rr]eissuing)|([Bb]oxset)|([Bb]ox set)|([Rr]emastered)|xCD|singles collections|([Bb]est-of)')\n",
    "df.loc[s.index[s], 'isReissue'] = True\n",
    "df.loc[s.index[s], 'isBNM'] = False  "
   ]
  },
  {
   "cell_type": "code",
   "execution_count": 35,
   "id": "bea368a1",
   "metadata": {},
   "outputs": [],
   "source": [
    "tempDf = df[df['isReissue']]\n",
    "tempDf = tempDf[(tempDf[\"year\"] == tempDf[\"publication year\"])]\n",
    "tempDf = tempDf[tempDf['abstract'].str.contains(r' \\d\\d\\d\\d')]\n",
    "\n",
    "s = tempDf['abstract'].str.extract(r'( \\d\\d\\d\\d)')\n",
    "df.loc[s.index,'year'] = s"
   ]
  },
  {
   "cell_type": "code",
   "execution_count": 37,
   "id": "3ca2639a",
   "metadata": {},
   "outputs": [],
   "source": [
    "###########################################################################################################################"
   ]
  },
  {
   "cell_type": "code",
   "execution_count": 38,
   "id": "5d267bc0",
   "metadata": {},
   "outputs": [],
   "source": [
    "#Columns Reorder"
   ]
  },
  {
   "cell_type": "code",
   "execution_count": 39,
   "id": "312ec012",
   "metadata": {},
   "outputs": [],
   "source": [
    "###########################################################################################################################"
   ]
  },
  {
   "cell_type": "code",
   "execution_count": 41,
   "id": "0eebe137",
   "metadata": {},
   "outputs": [],
   "source": [
    "df = df[['title', 'artist', 'year', 'score', 'genre', 'label', 'isBNM', 'isBNR', 'isEP', 'isReissue', 'isLookback',\n",
    "         'year reissue', 'author', 'abstract', 'review', 'word count', 'char count',\n",
    "         'publication datetime', 'publication year', 'publication date', 'publication time', 'url']]"
   ]
  },
  {
   "cell_type": "code",
   "execution_count": 44,
   "id": "2d046673",
   "metadata": {},
   "outputs": [],
   "source": [
    "# Path to save to\n",
    "save_to_path = 'D:\\\\CS\\\\Projects\\\\p4k\\\\reviewList.csv'\n",
    "\n",
    "df.to_csv(save_to_path, index=False)"
   ]
  }
 ],
 "metadata": {
  "kernelspec": {
   "display_name": "Python 3 (ipykernel)",
   "language": "python",
   "name": "python3"
  },
  "language_info": {
   "codemirror_mode": {
    "name": "ipython",
    "version": 3
   },
   "file_extension": ".py",
   "mimetype": "text/x-python",
   "name": "python",
   "nbconvert_exporter": "python",
   "pygments_lexer": "ipython3",
   "version": "3.9.16"
  }
 },
 "nbformat": 4,
 "nbformat_minor": 5
}
